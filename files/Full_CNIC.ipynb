{
 "cells": [
  {
   "cell_type": "code",
   "execution_count": 2,
   "id": "dca51a3f-8682-4ed3-b3c3-33c16a00b3d6",
   "metadata": {},
   "outputs": [
    {
     "name": "stdout",
     "output_type": "stream",
     "text": [
      "Extracted Text:\n",
      "Name\n",
      "\n",
      "Ahsan Tariq\n",
      "\n",
      "Father Name\n",
      "\n",
      "Tariq Mehmood\n",
      "\n",
      "Gender } Country of Stay\n",
      "Mj Pakistan\n",
      "\n",
      "identity Number | Date of Birth\n",
      "31102-7130971-9 | 07.07.2004\n",
      "\n",
      "Date of Issue | Date of Expiry\n",
      "\n",
      "08.08.2022 | 08.08.2032 jaar nanan\n",
      "\n",
      "\n"
     ]
    }
   ],
   "source": [
    "from pytesseract import *\n",
    "import cv2\n",
    "import numpy as np\n",
    "\n",
    "image_path = \"image.jpg\"\n",
    "\n",
    "image = cv2.imread(image_path)\n",
    "\n",
    "gray = cv2.cvtColor(image, cv2.COLOR_BGR2GRAY)\n",
    "\n",
    "text = pytesseract.image_to_string(gray, lang='eng')\n",
    "\n",
    "print(\"Extracted Text:\")\n",
    "print(text)\n",
    "cv2.namedWindow(\"Image\", cv2.WND_PROP_FULLSCREEN)\n",
    "cv2.setWindowProperty(\"Image\", cv2.WND_PROP_FULLSCREEN, cv2.WINDOW_FULLSCREEN)\n",
    "\n",
    "cv2.imshow(\"Image\", image)\n",
    "\n",
    "cv2.waitKey(0)\n",
    "cv2.destroyAllWindows()\n"
   ]
  },
  {
   "cell_type": "code",
   "execution_count": null,
   "id": "f4b77b38-9ec2-4b71-8d70-12ab6aa7d144",
   "metadata": {},
   "outputs": [],
   "source": []
  }
 ],
 "metadata": {
  "kernelspec": {
   "display_name": "Python 3 (ipykernel)",
   "language": "python",
   "name": "python3"
  },
  "language_info": {
   "codemirror_mode": {
    "name": "ipython",
    "version": 3
   },
   "file_extension": ".py",
   "mimetype": "text/x-python",
   "name": "python",
   "nbconvert_exporter": "python",
   "pygments_lexer": "ipython3",
   "version": "3.11.2"
  },
  "widgets": {
   "application/vnd.jupyter.widget-state+json": {
    "state": {},
    "version_major": 2,
    "version_minor": 0
   }
  }
 },
 "nbformat": 4,
 "nbformat_minor": 5
}
